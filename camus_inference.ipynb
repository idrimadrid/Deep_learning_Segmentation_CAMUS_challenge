{
  "nbformat": 4,
  "nbformat_minor": 0,
  "metadata": {
    "colab": {
      "name": "camus_inference.ipynb",
      "provenance": [],
      "collapsed_sections": [],
      "include_colab_link": true
    },
    "kernelspec": {
      "name": "python3",
      "display_name": "Python 3"
    }
  },
  "cells": [
    {
      "cell_type": "markdown",
      "metadata": {
        "id": "view-in-github",
        "colab_type": "text"
      },
      "source": [
        "<a href=\"https://colab.research.google.com/github/idrimadrid/Deep_learning_Segmentation_CAMUS_challenge/blob/main/camus_inference.ipynb\" target=\"_parent\"><img src=\"https://colab.research.google.com/assets/colab-badge.svg\" alt=\"Open In Colab\"/></a>"
      ]
    },
    {
      "cell_type": "code",
      "metadata": {
        "id": "bgRATvRw6syR",
        "colab": {
          "base_uri": "https://localhost:8080/",
          "height": 70
        },
        "outputId": "17a88f84-3235-4e36-962e-fe0351bcd4c6"
      },
      "source": [
        "!pip -q install medpy\n",
        "!pip -q install SimpleITK"
      ],
      "execution_count": null,
      "outputs": [
        {
          "output_type": "stream",
          "text": [
            "\u001b[K     |████████████████████████████████| 153kB 1.8MB/s \n",
            "\u001b[K     |████████████████████████████████| 42.5MB 108kB/s \n",
            "\u001b[?25h  Building wheel for medpy (setup.py) ... \u001b[?25l\u001b[?25hdone\n"
          ],
          "name": "stdout"
        }
      ]
    },
    {
      "cell_type": "code",
      "metadata": {
        "id": "G-KWFp-ao9aA"
      },
      "source": [
        "import tensorflow as tf\n",
        "import numpy as np\n",
        "import nibabel as nib\n",
        "from glob import glob\n",
        "from medpy.io import load, save\n",
        "import SimpleITK as sitk\n",
        "from skimage.transform import resize\n",
        "from IPython.display import clear_output\n",
        "# (0.308, 0.154, 1.54)"
      ],
      "execution_count": null,
      "outputs": []
    },
    {
      "cell_type": "code",
      "metadata": {
        "id": "oSmYJM56AsV-"
      },
      "source": [
        "header = None\n",
        "for i in range(1, 10):\n",
        "  file = f\"/content/drive/My Drive/Camus Test/test/patient000{i}/patient000{i}_2CH_ED.mhd\"\n",
        "  image = load(file)\n",
        "  header = image[1]\n",
        "  break"
      ],
      "execution_count": null,
      "outputs": []
    },
    {
      "cell_type": "code",
      "metadata": {
        "id": "enC_9B-33Meb"
      },
      "source": [
        "def normalize(input_image):\n",
        "  \"\"\" normalisation [0..1] \"\"\"\n",
        "  input_image = tf.cast(input_image, tf.float32) / 255.0\n",
        "  return input_image"
      ],
      "execution_count": null,
      "outputs": []
    },
    {
      "cell_type": "code",
      "metadata": {
        "id": "iYDoWqvB3OW2"
      },
      "source": [
        "def create_mask(pred_mask):\n",
        "  pred_mask = tf.argmax(pred_mask, axis=-1)\n",
        "  pred_mask = pred_mask[..., tf.newaxis]\n",
        "  return pred_mask[0]"
      ],
      "execution_count": null,
      "outputs": []
    },
    {
      "cell_type": "code",
      "metadata": {
        "id": "ncN3odQo3R-v"
      },
      "source": [
        "modelPath = \"/content/drive/My Drive/camusModel.h5\"\n",
        "model = tf.keras.models.load_model(modelPath)"
      ],
      "execution_count": null,
      "outputs": []
    },
    {
      "cell_type": "code",
      "metadata": {
        "id": "1TXQbSyt3cF3"
      },
      "source": [
        "input_folder = \"/content/drive/My Drive/testing_converted/\"\n",
        "output_folder = \"/content/drive/My Drive/predicted/\""
      ],
      "execution_count": null,
      "outputs": []
    },
    {
      "cell_type": "code",
      "metadata": {
        "id": "mJwSvkaR3WFy"
      },
      "source": [
        "resize_shape = (352, 352, 1)\n",
        "pat = {}\n",
        "predictions = []"
      ],
      "execution_count": null,
      "outputs": []
    },
    {
      "cell_type": "markdown",
      "metadata": {
        "id": "kTUZYa-Y8QTV"
      },
      "source": [
        "Example:\n",
        "\n",
        "{\n",
        "  \n",
        "\t\"name\" : \"patient0001\"\n",
        "\n",
        "\t\"patient0001_2CH_ED.nii\": array\n",
        "\n",
        "\t\"patient0001_2CH_ES.nii\": array\n",
        "\n",
        "\t\"patient0001_4CH_ED.nii\": array\n",
        "\n",
        "\t\"patient0001_4CH_ES.nii\": array\n",
        "\n",
        "}"
      ]
    },
    {
      "cell_type": "code",
      "metadata": {
        "id": "jTjJGPrj7UC7",
        "colab": {
          "base_uri": "https://localhost:8080/",
          "height": 34
        },
        "outputId": "64251ca8-8439-4b1c-b4b5-e7be1893f2a5"
      },
      "source": [
        "for index, patient in enumerate(glob(input_folder+\"/p*\")):\n",
        "  pat[\"name\"] = patient[-11:]\n",
        "  for file in glob(patient+\"/*\"):\n",
        "    file_name = file[-22:]\n",
        "    image = nib.load(file).get_fdata()\n",
        "    normal_resized_image = normalize(resize(image, resize_shape))\n",
        "    image_batched = normal_resized_image[tf.newaxis, ...]\n",
        "    predict = model.predict(image_batched) \n",
        "    output = create_mask(predict).numpy()\n",
        "    pat[\"original_size\"] = image.shape\n",
        "    pat[file_name] = np.ndarray.astype(resize(output, pat['original_size'], preserve_range=True), np.uint8)\n",
        "  predictions.append(pat)\n",
        "  pat = {}\n",
        "  print(index*2, \"%\")\n",
        "  clear_output(True)\n",
        "print(\"Loading completed.\")"
      ],
      "execution_count": null,
      "outputs": [
        {
          "output_type": "stream",
          "text": [
            "Loading completed.\n"
          ],
          "name": "stdout"
        }
      ]
    },
    {
      "cell_type": "markdown",
      "metadata": {
        "id": "W7bSSZKb4Y-6"
      },
      "source": [
        "Save predictions to mhd format"
      ]
    },
    {
      "cell_type": "code",
      "metadata": {
        "id": "oIOUjhFI4XA3",
        "colab": {
          "base_uri": "https://localhost:8080/",
          "height": 52
        },
        "outputId": "9308bf27-c578-4585-a02a-dcfa1cfb5380"
      },
      "source": [
        "for index, predicted in enumerate(predictions):\n",
        "\tname = \"\"\n",
        "\tfor k, v in predicted.items():\n",
        "\t\tif k == \"name\":\n",
        "\t\t\tname = v\n",
        "\t\tif \"nii\" in k:\n",
        "\t\t\tsave(v, output_folder+\"/\"+k.replace(\"nii\", \"mhd\"), hdr=header)\n",
        "\tprint(index*100//len(predictions))\n",
        "print(\"Done.\")"
      ],
      "execution_count": null,
      "outputs": [
        {
          "output_type": "stream",
          "text": [
            "0\n",
            "Done.\n"
          ],
          "name": "stdout"
        }
      ]
    },
    {
      "cell_type": "code",
      "metadata": {
        "id": "RzXaccObAVqb"
      },
      "source": [
        "#conversion\n",
        "\n",
        "\n",
        "# input_folder = \"/content/drive/My Drive/Camus Test/test\"\n",
        "# converted_folder = \"/content/drive/My Drive/testing_converted/\"\n",
        "\n",
        "# for index, patient in enumerate(glob(input_folder+\"/p*\")):\n",
        "#   folder_name = patient[-11:]\n",
        "#   for file in glob(patient+\"/*.mhd\"):\n",
        "#     converted_file_name = file[52:].replace(\"mhd\", \"nii\")\n",
        "#     Path(converted_folder+folder_name).mkdir(parents=True, exist_ok=True)\n",
        "#     if \"sequence\" not in file:\n",
        "#       img = sitk.ReadImage(file)\n",
        "#       sitk.WriteImage(img, converted_folder+\"/\"+folder_name+\"/\"+converted_file_name)\n",
        "#   clear_output(True)\n",
        "#   print(index)"
      ],
      "execution_count": null,
      "outputs": []
    }
  ]
}